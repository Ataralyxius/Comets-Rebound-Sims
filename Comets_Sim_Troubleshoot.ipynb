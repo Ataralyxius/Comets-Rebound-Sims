{
 "cells": [
  {
   "cell_type": "code",
   "execution_count": 1,
   "metadata": {},
   "outputs": [],
   "source": [
    "import numpy as np\n",
    "import scipy as sp\n",
    "import pandas as pd\n",
    "import rebound\n",
    "import reboundx"
   ]
  },
  {
   "cell_type": "code",
   "execution_count": 2,
   "metadata": {},
   "outputs": [],
   "source": [
    "migration = \"UNMigration\" #\"NoMigration\" \"UNMigration\"\n",
    "chemdist = \"binary\" #\"binary\" \"linear\" \"no_overlap\"\n",
    "galactictides = \"off\" #\"on\" \"off\"\n",
    "stellarperturb = \"off\" #\"on\" \"off\""
   ]
  },
  {
   "cell_type": "code",
   "execution_count": 3,
   "metadata": {},
   "outputs": [],
   "source": [
    "#Set locations for comets\n",
    "def comets_loc(inner_lim, outer_lim, n_comets):\n",
    "    comets = randomstate.uniform(low = inner_lim, high = outer_lim , size = n_comets)\n",
    "    return comets"
   ]
  },
  {
   "cell_type": "code",
   "execution_count": null,
   "metadata": {},
   "outputs": [],
   "source": [
    "#Set specific random seed for each cluster node sim, used to replicate for later\n",
    "seedinput = 55 #2 #13 #55"
   ]
  },
  {
   "cell_type": "code",
   "execution_count": 4,
   "metadata": {},
   "outputs": [],
   "source": [
    "randomstate = np.random.RandomState(seedinput)\n",
    "#np.random.seed(seed=seedinput)\n",
    "filenum = seedinput\n",
    "\n",
    "n_comets = 100\n",
    "#Set timesteps (tau = planetary migration timescale recalculation, enc = stellar encounter samples)\n",
    "tau_timestep_num = 100\n",
    "enc_timestep_num = 2 #449901 #always one more than (tmax - t_ce) / desired interval bewteeen steps\n",
    "#Set interval at which rebound simulation snapshot is taken\n",
    "sim_archive_interval = 5e4 #5e5\n",
    "\n",
    "#Integrator used by simulation\n",
    "sim_integrator = \"mercurius\" #\"ias15\" \"whfast\" \"mercurius\"\n",
    "\n",
    "#Set distance (in terms of Hill Radii) at which integrator switches to IAS15 to handle close encounters (for Mercurius)\n",
    "RcriticalMerc = 6.\n",
    "\n",
    "#Set distance (in AU) at which objects are removed from the sim\n",
    "object_exit_distance = 1e99 #206266. is 1 pc #1e99 for no removals\n",
    "\n",
    "#tmax is the total simulation time\n",
    "#T_ce is the time at which the planetary bodies stop moving (but the comets will move)\n",
    "tmax = 4.5e9 #1.2e6 #4.5e9\n",
    "T_ce = 1e6\n",
    "\n",
    "#Set the semi-major axis and eccentricity timescales for Uranus and Neptune only\n",
    "if migration == \"UNMigration\":\n",
    "    a_i_list = [5.2044, 9.5826, 17.5, 27.5]\n",
    "    e_i_list = [0.0489, 0.0565, 0.2, 0.3]\n",
    "elif migration == \"NoMigration\":\n",
    "    a_i_list = [5.2044, 9.5826, 19.2184, 30.1104]\n",
    "    e_i_list = [0.0489, 0.0565, 0.0463, 0.00946]\n",
    "\n",
    "a_f_list = [5.2044, 9.5826, 19.2184, 30.1104]\n",
    "e_f_list = [0.0489, 0.0565, 0.0463, 0.00946]"
   ]
  },
  {
   "cell_type": "code",
   "execution_count": 5,
   "metadata": {},
   "outputs": [],
   "source": [
    "if sim_integrator == \"ias15\":\n",
    "    integrator_filelabel = \"_IAS15_\"\n",
    "elif sim_integrator == \"mercurius\":\n",
    "    integrator_filelabel = \"_Rcrit\"+str(RcriticalMerc)+\"_\"\n",
    "    \n",
    "if galactictides == \"on\":\n",
    "    tides_filelabel = \"_Tides\"\n",
    "else:\n",
    "    tides_filelabel = \"\"\n",
    "    \n",
    "if stellarperturb == \"on\":\n",
    "    perturb_filelabel = \"_Perturb\"\n",
    "else:\n",
    "    perturb_filelabel = \"\""
   ]
  },
  {
   "cell_type": "code",
   "execution_count": 6,
   "metadata": {},
   "outputs": [],
   "source": [
    "def simulation_load():\n",
    "    #load Saved Simulation archive\n",
    "    sa = rebound.SimulationArchive(\"sim_save_\"+migration+\"_\"+str(filenum)+integrator_filelabel+chemdist+\"chem\"+\n",
    "                                   tides_filelabel+perturb_filelabel+\".bin\")\n",
    "    print(\"sim_save_\"+migration+\"_\"+str(filenum)+integrator_filelabel+chemdist+\"chem\"+\n",
    "                                   tides_filelabel+perturb_filelabel+\".bin\")\n",
    "    print(\"Number of snapshots: %d\" % len(sa))\n",
    "    print(\"Time of first and last snapshot: %.1f, %.1f\" % (sa.tmin, sa.tmax))\n",
    "    for i in range(0,len(sa)):\n",
    "        sim_saved = sa[i]\n",
    "        print(sim_saved.t) \n",
    "        orbits_test = sim_saved.calculate_orbits()\n",
    "        if len(orbits_test) == 0:\n",
    "            print(\"Empty Simulation Found : Snapshot \",i)\n",
    "            break"
   ]
  },
  {
   "cell_type": "code",
   "execution_count": 7,
   "metadata": {},
   "outputs": [
    {
     "name": "stdout",
     "output_type": "stream",
     "text": [
      "sim_save_UNMigration_55_Rcrit6.0_binarychem.bin\n",
      "Number of snapshots: 9001\n",
      "Time of first and last snapshot: 0.0, 4500000000.0\n",
      "0.0\n",
      "500000.0\n",
      "1000000.0\n",
      "1500000.207678828\n",
      "2000000.1188420246\n",
      "2500000.029688916\n",
      "3000000.2369942283\n",
      "3500000.147764839\n",
      "4000000.05853545\n",
      "4500000.265840762\n",
      "5000000.176611373\n",
      "5500000.087381984\n",
      "6000000.294687296\n",
      "6500000.205457907\n",
      "7000000.116228518\n",
      "7500000.026999129\n",
      "8000000.234304441\n",
      "Empty Simulation Found : Snapshot  16\n"
     ]
    },
    {
     "name": "stderr",
     "output_type": "stream",
     "text": [
      "/home/Michael/anaconda3/lib/python3.6/site-packages/rebound/simulationarchive.py:127: RuntimeWarning: You have to reset function pointers after creating a reb_simulation struct with a binary file.\n",
      "  warnings.warn(message, RuntimeWarning)\n"
     ]
    }
   ],
   "source": [
    "simulation_load()"
   ]
  },
  {
   "cell_type": "code",
   "execution_count": null,
   "metadata": {},
   "outputs": [],
   "source": []
  }
 ],
 "metadata": {
  "kernelspec": {
   "display_name": "Python 3",
   "language": "python",
   "name": "python3"
  },
  "language_info": {
   "codemirror_mode": {
    "name": "ipython",
    "version": 3
   },
   "file_extension": ".py",
   "mimetype": "text/x-python",
   "name": "python",
   "nbconvert_exporter": "python",
   "pygments_lexer": "ipython3",
   "version": "3.6.4"
  }
 },
 "nbformat": 4,
 "nbformat_minor": 2
}
