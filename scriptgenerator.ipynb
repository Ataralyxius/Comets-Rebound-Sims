{
 "cells": [
  {
   "cell_type": "code",
   "execution_count": null,
   "metadata": {},
   "outputs": [],
   "source": [
    "import numpy as np\n",
    "import sys\n",
    "from subprocess import call\n",
    "import time\n",
    "import pandas as pd\n",
    "import os\n",
    "\n",
    "Nruns = 100 #int(sys.argv[1])\n",
    "\n",
    "for i in range(1, Nruns):\n",
    "    with open(\"sunnyvale.sh\", \"w\") as of:\n",
    "        of.write(\"#!/bin/bash -l\\n\")\n",
    "        of.write(\"#PBS -l nodes=1:ppn=1\\n\")\n",
    "        of.write(\"#PBS -q workq\\n\")\n",
    "        of.write(\"#PBS -r n\\n\")\n",
    "        of.write(\"#PBS -l walltime=48:00:00\\n\")\n",
    "        of.write(\"#PBS -N BinaryChem_Rcrit3_{0}\\n\".format(i))\n",
    "        of.write(\"# EVERYTHING ABOVE THIS COMMENT IS NECESSARY, SHOULD ONLY CHANGE nodes,ppn,walltime and my_job_name VALUES\\n\")\n",
    "        of.write(\"cd $PBS_O_WORKDIR\\n\")\n",
    "        of.write(\"module load gcc/7.3.0\\n\")\n",
    "        of.write(\"source /mnt/raid-cita/mwong/opt/python/venv-3.6.4/bin/activate\\n\")\n",
    "        of.write(\"export LD_LIBRARY_PATH=$LD_LIBRARY_PATH:/opt/python/3.6.4/lib\\n\")\n",
    "        of.write(\"python3 MWong_Sim_Cluster_UNMigrate_BinaryChem_Rcrit3.py {0} > UNMigrate_BinaryChem_Rcrit3_{0}.out\".format(i))\n",
    "\n",
    "    call(\"chmod u=rwx sunnyvale.sh\", shell=True)\n",
    "    call(\"qsub  sunnyvale.sh\", shell=True)\n",
    "\n"
   ]
  }
 ],
 "metadata": {
  "kernelspec": {
   "display_name": "Python 3",
   "language": "python",
   "name": "python3"
  },
  "language_info": {
   "codemirror_mode": {
    "name": "ipython",
    "version": 3
   },
   "file_extension": ".py",
   "mimetype": "text/x-python",
   "name": "python",
   "nbconvert_exporter": "python",
   "pygments_lexer": "ipython3",
   "version": "3.6.4"
  }
 },
 "nbformat": 4,
 "nbformat_minor": 2
}
